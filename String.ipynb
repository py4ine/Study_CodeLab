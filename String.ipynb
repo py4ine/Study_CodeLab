{
 "cells": [
  {
   "cell_type": "code",
   "execution_count": 1,
   "metadata": {},
   "outputs": [
    {
     "name": "stdout",
     "output_type": "stream",
     "text": [
      "Jexxica Wilkins\n"
     ]
    }
   ],
   "source": [
    "# 문자열 제거 - replace 함수\n",
    "# str.replace(old_str, new_str, optional_max)\n",
    "\n",
    "developer = 'Jessica Wilkins'\n",
    "\n",
    "print(developer.replace('s', 'x', 2))"
   ]
  },
  {
   "cell_type": "code",
   "execution_count": 6,
   "metadata": {},
   "outputs": [
    {
     "data": {
      "text/plain": [
       "'Jexxica Wilkinx'"
      ]
     },
     "execution_count": 6,
     "metadata": {},
     "output_type": "execute_result"
    }
   ],
   "source": [
    "# 문자 모두 제거 - translate 함수\n",
    "# str.translate(table)\n",
    "\n",
    "developer = 'Jessica Wilkins'\n",
    "developer.translate({ord('s') : 'x'})"
   ]
  },
  {
   "cell_type": "code",
   "execution_count": 9,
   "metadata": {},
   "outputs": [
    {
     "data": {
      "text/plain": [
       "'Jca Wlkn'"
      ]
     },
     "execution_count": 9,
     "metadata": {},
     "output_type": "execute_result"
    }
   ],
   "source": [
    "# 포함된 문자 모두 지우기\n",
    "developer = 'Jessica Wilkins'\n",
    "developer.translate({ord(letter) : None for letter in 'esi'})"
   ]
  },
  {
   "cell_type": "code",
   "execution_count": null,
   "metadata": {},
   "outputs": [],
   "source": []
  }
 ],
 "metadata": {
  "kernelspec": {
   "display_name": "base",
   "language": "python",
   "name": "python3"
  },
  "language_info": {
   "codemirror_mode": {
    "name": "ipython",
    "version": 3
   },
   "file_extension": ".py",
   "mimetype": "text/x-python",
   "name": "python",
   "nbconvert_exporter": "python",
   "pygments_lexer": "ipython3",
   "version": "3.9.12"
  }
 },
 "nbformat": 4,
 "nbformat_minor": 2
}
