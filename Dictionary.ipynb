{
 "cells": [
  {
   "cell_type": "markdown",
   "metadata": {},
   "source": [
    "# 딕셔너리 (Dictionary)"
   ]
  },
  {
   "cell_type": "code",
   "execution_count": 1,
   "metadata": {},
   "outputs": [],
   "source": [
    "# 처리 속도가 빠름"
   ]
  },
  {
   "cell_type": "code",
   "execution_count": 5,
   "metadata": {},
   "outputs": [
    {
     "name": "stdout",
     "output_type": "stream",
     "text": [
      "{1: 5, 2: 2, 3: 1, 4: 4, 5: 4}\n"
     ]
    }
   ],
   "source": [
    "# list 요소 개수 세기 - if문\n",
    "\n",
    "# 셀 리스트 생성\n",
    "list = [1,2,3,4,5,5,5,5,1,1,1,1,4,4,4,2]\n",
    "\n",
    "# 빈 딕셔너리 생성\n",
    "dic = {}\n",
    "\n",
    "# 요소가 딕셔너리에 있다면 += 1, 없다면 = 1\n",
    "for num in list:\n",
    "    if num in dic:\n",
    "        dic[num] += 1\n",
    "    \n",
    "    else:\n",
    "        dic[num] = 1\n",
    "\n",
    "print(dic)"
   ]
  },
  {
   "cell_type": "code",
   "execution_count": 4,
   "metadata": {},
   "outputs": [
    {
     "name": "stdout",
     "output_type": "stream",
     "text": [
      "{1: 5, 2: 2, 3: 1, 4: 4, 5: 4}\n"
     ]
    }
   ],
   "source": [
    "# list 요소 개수 세기 - get 함수 사용\n",
    "\n",
    "# 셀 리스트 생성\n",
    "list = [1,2,3,4,5,5,5,5,1,1,1,1,4,4,4,2]\n",
    "\n",
    "# 빈 딕셔너리 생성\n",
    "dic = {}\n",
    "\n",
    "for i in list:\n",
    "    dic[i] = dic.get(i, 0) + 1\n",
    "\n",
    "print(dic)"
   ]
  },
  {
   "cell_type": "code",
   "execution_count": 19,
   "metadata": {},
   "outputs": [
    {
     "name": "stdout",
     "output_type": "stream",
     "text": [
      "Counter({1: 3, 5: 2, 8: 2, 4: 2, 2: 1, 6: 1, 3: 1})\n",
      "Counter({1: 4, 5: 3, 8: 2, 3: 2, 4: 2, 2: 1})\n",
      "<class 'collections.Counter'>\n",
      "Counter({1: 7, 5: 5, 8: 4, 4: 4, 3: 3, 2: 2, 6: 1})\n",
      "Counter({6: 1})\n",
      "3\n",
      "3\n",
      "99\n",
      "Counter({1: 3, 2: 1, 5: 2, 8: 2, 4: 2, 6: 1, 3: 1, 55: None})\n"
     ]
    }
   ],
   "source": [
    "# list 요소 개수 세기 - collection.Counter 사용\n",
    "\n",
    "import collections\n",
    "\n",
    "# 리스트 생성\n",
    "list_a = [1,2,5,8,4,1,5,8,4,1,6,3]\n",
    "list_b = [5,5,8,1,1,1,2,3,5,1,4,3,8,4]\n",
    "\n",
    "# collections.Counter() 메서드에 리스트를 넣는다\n",
    "dict_a = collections.Counter(list_a)\n",
    "dict_b = collections.Counter(list_b)\n",
    "\n",
    "# Counter라는 타입에 묶인 딕셔너리가 생성\n",
    "print(dict_a)\n",
    "print(dict_b)\n",
    "\n",
    "# type 확인\n",
    "print(type(dict_a))\n",
    "\n",
    "# 딕셔너리 형태로 다시 바꿀 수 없지만, 덧샘 뺄샘이 가능하고,\n",
    "print(dict_a + dict_b)\n",
    "print(dict_a - dict_b)  # 결과값이 0보다 작은 value 경우 없어짐\n",
    "\n",
    "# 딕셔너리 타입 문법 사용가능\n",
    "print(dict_a[1])\n",
    "print(dict_a.get(1))\n",
    "print(dict_a.get(10, 99))\n",
    "dict_a.setdefault(55)\n",
    "print(dict_a)"
   ]
  },
  {
   "cell_type": "code",
   "execution_count": 1,
   "metadata": {},
   "outputs": [
    {
     "name": "stdout",
     "output_type": "stream",
     "text": [
      "{'I': 1, 't': 6, ' ': 13, 'w': 2, 'a': 4, 's': 3, 'b': 1, 'r': 5, 'i': 6, 'g': 3, 'h': 3, 'c': 3, 'o': 2, 'l': 3, 'd': 3, 'y': 1, 'n': 4, 'A': 1, 'p': 1, ',': 1, 'e': 5, 'k': 1, '.': 1}\n"
     ]
    }
   ],
   "source": [
    "# 문자열 요소 개수 세기 - setdefault 사용\n",
    "\n",
    "msg = \"It was a bright cold day in April, and the clocks were striging thirteen.\"\n",
    "\n",
    "count = {}\n",
    "\n",
    "for char in msg:\n",
    "    count.setdefault(char, 0)\n",
    "    count[char] = count[char] + 1\n",
    "\n",
    "print(count)"
   ]
  },
  {
   "cell_type": "code",
   "execution_count": 7,
   "metadata": {},
   "outputs": [
    {
     "data": {
      "text/plain": [
       "['2']"
      ]
     },
     "execution_count": 7,
     "metadata": {},
     "output_type": "execute_result"
    }
   ],
   "source": [
    "# 딕셔너리 value값으로 Key값 찾기\n",
    "\n",
    "aa = {'0' : 'AA', '1' : 'BB', '2' : 'CC'}\n",
    "# aa.get('2')\n",
    "\n",
    "# [k for k, v in aa.items() if v == 'CC']\n",
    "for i, j in aa.items():\n",
    "    if j == 'CC':\n",
    "        print(i)"
   ]
  },
  {
   "cell_type": "code",
   "execution_count": null,
   "metadata": {},
   "outputs": [],
   "source": []
  }
 ],
 "metadata": {
  "kernelspec": {
   "display_name": "Python 3",
   "language": "python",
   "name": "python3"
  },
  "language_info": {
   "codemirror_mode": {
    "name": "ipython",
    "version": 3
   },
   "file_extension": ".py",
   "mimetype": "text/x-python",
   "name": "python",
   "nbconvert_exporter": "python",
   "pygments_lexer": "ipython3",
   "version": "3.9.12"
  }
 },
 "nbformat": 4,
 "nbformat_minor": 2
}
